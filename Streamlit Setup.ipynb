{
 "cells": [
  {
   "cell_type": "code",
   "execution_count": 1,
   "metadata": {},
   "outputs": [
    {
     "name": "stdout",
     "output_type": "stream",
     "text": [
      "Requirement already satisfied: streamlit in c:\\users\\alber\\anaconda3\\lib\\site-packages (1.23.1)\n",
      "Requirement already satisfied: pympler<2,>=0.9 in c:\\users\\alber\\anaconda3\\lib\\site-packages (from streamlit) (1.0.1)\n",
      "Requirement already satisfied: requests<3,>=2.4 in c:\\users\\alber\\anaconda3\\lib\\site-packages (from streamlit) (2.22.0)\n",
      "Requirement already satisfied: watchdog; platform_system != \"Darwin\" in c:\\users\\alber\\anaconda3\\lib\\site-packages (from streamlit) (0.10.2)\n",
      "Requirement already satisfied: pyarrow>=4.0 in c:\\users\\alber\\anaconda3\\lib\\site-packages (from streamlit) (12.0.1)\n",
      "Requirement already satisfied: python-dateutil<3,>=2 in c:\\users\\alber\\anaconda3\\lib\\site-packages (from streamlit) (2.8.1)\n",
      "Requirement already satisfied: toml<2 in c:\\users\\alber\\anaconda3\\lib\\site-packages (from streamlit) (0.10.2)\n",
      "Requirement already satisfied: click<9,>=7.0 in c:\\users\\alber\\anaconda3\\lib\\site-packages (from streamlit) (8.1.3)\n",
      "Requirement already satisfied: protobuf<5,>=3.20 in c:\\users\\alber\\anaconda3\\lib\\site-packages (from streamlit) (4.24.4)\n",
      "Requirement already satisfied: typing-extensions<5,>=4.0.1 in c:\\users\\alber\\anaconda3\\lib\\site-packages (from streamlit) (4.7.1)\n",
      "Requirement already satisfied: tornado<7,>=6.0.3 in c:\\users\\alber\\anaconda3\\lib\\site-packages (from streamlit) (6.0.3)\n",
      "Requirement already satisfied: rich<14,>=10.11.0 in c:\\users\\alber\\anaconda3\\lib\\site-packages (from streamlit) (13.7.1)\n",
      "Requirement already satisfied: tzlocal<5,>=1.1 in c:\\users\\alber\\anaconda3\\lib\\site-packages (from streamlit) (4.3.1)\n",
      "Requirement already satisfied: validators<1,>=0.2 in c:\\users\\alber\\anaconda3\\lib\\site-packages (from streamlit) (0.20.0)\n",
      "Requirement already satisfied: altair<6,>=4.0 in c:\\users\\alber\\anaconda3\\lib\\site-packages (from streamlit) (5.0.1)\n",
      "Requirement already satisfied: pandas<3,>=0.25 in c:\\users\\alber\\anaconda3\\lib\\site-packages (from streamlit) (1.0.1)\n",
      "Requirement already satisfied: importlib-metadata<7,>=1.4 in c:\\users\\alber\\anaconda3\\lib\\site-packages (from streamlit) (4.10.0)\n",
      "Requirement already satisfied: cachetools<6,>=4.0 in c:\\users\\alber\\anaconda3\\lib\\site-packages (from streamlit) (4.2.4)\n",
      "Requirement already satisfied: blinker<2,>=1.0.0 in c:\\users\\alber\\anaconda3\\lib\\site-packages (from streamlit) (1.6.3)\n",
      "Requirement already satisfied: numpy<2,>=1 in c:\\users\\alber\\anaconda3\\lib\\site-packages (from streamlit) (1.21.6)\n",
      "Requirement already satisfied: gitpython!=3.1.19,<4,>=3 in c:\\users\\alber\\anaconda3\\lib\\site-packages (from streamlit) (3.1.42)\n",
      "Requirement already satisfied: tenacity<9,>=8.0.0 in c:\\users\\alber\\anaconda3\\lib\\site-packages (from streamlit) (8.0.1)\n",
      "Requirement already satisfied: pillow<10,>=6.2.0 in c:\\users\\alber\\anaconda3\\lib\\site-packages (from streamlit) (7.0.0)\n",
      "Requirement already satisfied: pydeck<1,>=0.1.dev5 in c:\\users\\alber\\anaconda3\\lib\\site-packages (from streamlit) (0.8.1b0)\n",
      "Requirement already satisfied: packaging<24,>=14.1 in c:\\users\\alber\\anaconda3\\lib\\site-packages (from streamlit) (20.1)\n",
      "Requirement already satisfied: urllib3!=1.25.0,!=1.25.1,<1.26,>=1.21.1 in c:\\users\\alber\\anaconda3\\lib\\site-packages (from requests<3,>=2.4->streamlit) (1.25.11)\n",
      "Requirement already satisfied: idna<2.9,>=2.5 in c:\\users\\alber\\anaconda3\\lib\\site-packages (from requests<3,>=2.4->streamlit) (2.8)\n",
      "Requirement already satisfied: certifi>=2017.4.17 in c:\\users\\alber\\anaconda3\\lib\\site-packages (from requests<3,>=2.4->streamlit) (2019.11.28)\n",
      "Requirement already satisfied: chardet<3.1.0,>=3.0.2 in c:\\users\\alber\\anaconda3\\lib\\site-packages (from requests<3,>=2.4->streamlit) (3.0.4)\n",
      "Requirement already satisfied: pathtools>=0.1.1 in c:\\users\\alber\\anaconda3\\lib\\site-packages (from watchdog; platform_system != \"Darwin\"->streamlit) (0.1.2)\n",
      "Requirement already satisfied: six>=1.5 in c:\\users\\alber\\anaconda3\\lib\\site-packages (from python-dateutil<3,>=2->streamlit) (1.14.0)\n",
      "Requirement already satisfied: colorama; platform_system == \"Windows\" in c:\\users\\alber\\anaconda3\\lib\\site-packages (from click<9,>=7.0->streamlit) (0.4.3)\n",
      "Requirement already satisfied: markdown-it-py>=2.2.0 in c:\\users\\alber\\anaconda3\\lib\\site-packages (from rich<14,>=10.11.0->streamlit) (2.2.0)\n",
      "Requirement already satisfied: pygments<3.0.0,>=2.13.0 in c:\\users\\alber\\anaconda3\\lib\\site-packages (from rich<14,>=10.11.0->streamlit) (2.17.2)\n",
      "Requirement already satisfied: pytz-deprecation-shim in c:\\users\\alber\\anaconda3\\lib\\site-packages (from tzlocal<5,>=1.1->streamlit) (0.1.0.post0)\n",
      "Requirement already satisfied: tzdata; platform_system == \"Windows\" in c:\\users\\alber\\anaconda3\\lib\\site-packages (from tzlocal<5,>=1.1->streamlit) (2024.1)\n",
      "Requirement already satisfied: backports.zoneinfo; python_version < \"3.9\" in c:\\users\\alber\\anaconda3\\lib\\site-packages (from tzlocal<5,>=1.1->streamlit) (0.2.1)\n",
      "Requirement already satisfied: decorator>=3.4.0 in c:\\users\\alber\\anaconda3\\lib\\site-packages (from validators<1,>=0.2->streamlit) (4.4.1)\n",
      "Requirement already satisfied: jsonschema>=3.0 in c:\\users\\alber\\anaconda3\\lib\\site-packages (from altair<6,>=4.0->streamlit) (3.2.0)\n",
      "Requirement already satisfied: jinja2 in c:\\users\\alber\\anaconda3\\lib\\site-packages (from altair<6,>=4.0->streamlit) (2.11.1)\n",
      "Requirement already satisfied: toolz in c:\\users\\alber\\anaconda3\\lib\\site-packages (from altair<6,>=4.0->streamlit) (0.10.0)\n",
      "Requirement already satisfied: pytz>=2017.2 in c:\\users\\alber\\anaconda3\\lib\\site-packages (from pandas<3,>=0.25->streamlit) (2019.3)\n",
      "Requirement already satisfied: zipp>=0.5 in c:\\users\\alber\\anaconda3\\lib\\site-packages (from importlib-metadata<7,>=1.4->streamlit) (2.2.0)\n",
      "Requirement already satisfied: gitdb<5,>=4.0.1 in c:\\users\\alber\\anaconda3\\lib\\site-packages (from gitpython!=3.1.19,<4,>=3->streamlit) (4.0.11)\n",
      "Requirement already satisfied: pyparsing>=2.0.2 in c:\\users\\alber\\anaconda3\\lib\\site-packages (from packaging<24,>=14.1->streamlit) (2.4.6)\n",
      "Requirement already satisfied: mdurl~=0.1 in c:\\users\\alber\\anaconda3\\lib\\site-packages (from markdown-it-py>=2.2.0->rich<14,>=10.11.0->streamlit) (0.1.2)\n",
      "Requirement already satisfied: pyrsistent>=0.14.0 in c:\\users\\alber\\anaconda3\\lib\\site-packages (from jsonschema>=3.0->altair<6,>=4.0->streamlit) (0.15.7)\n",
      "Requirement already satisfied: setuptools in c:\\users\\alber\\anaconda3\\lib\\site-packages (from jsonschema>=3.0->altair<6,>=4.0->streamlit) (45.2.0.post20200210)\n",
      "Requirement already satisfied: attrs>=17.4.0 in c:\\users\\alber\\anaconda3\\lib\\site-packages (from jsonschema>=3.0->altair<6,>=4.0->streamlit) (19.3.0)\n",
      "Requirement already satisfied: MarkupSafe>=0.23 in c:\\users\\alber\\anaconda3\\lib\\site-packages (from jinja2->altair<6,>=4.0->streamlit) (1.1.1)\n",
      "Requirement already satisfied: smmap<6,>=3.0.1 in c:\\users\\alber\\anaconda3\\lib\\site-packages (from gitdb<5,>=4.0.1->gitpython!=3.1.19,<4,>=3->streamlit) (5.0.1)\n"
     ]
    }
   ],
   "source": [
    "!pip install streamlit"
   ]
  },
  {
   "cell_type": "code",
   "execution_count": 2,
   "metadata": {},
   "outputs": [
    {
     "name": "stdout",
     "output_type": "stream",
     "text": [
      "Collecting pipreqs\n",
      "  Downloading pipreqs-0.4.13-py2.py3-none-any.whl (33 kB)\n",
      "Collecting docopt\n",
      "  Downloading docopt-0.6.2.tar.gz (25 kB)\n",
      "Collecting yarg\n",
      "  Downloading yarg-0.1.9-py2.py3-none-any.whl (19 kB)\n",
      "Requirement already satisfied: requests in c:\\users\\alber\\anaconda3\\lib\\site-packages (from yarg->pipreqs) (2.22.0)\n",
      "Requirement already satisfied: chardet<3.1.0,>=3.0.2 in c:\\users\\alber\\anaconda3\\lib\\site-packages (from requests->yarg->pipreqs) (3.0.4)\n",
      "Requirement already satisfied: certifi>=2017.4.17 in c:\\users\\alber\\anaconda3\\lib\\site-packages (from requests->yarg->pipreqs) (2019.11.28)\n",
      "Requirement already satisfied: urllib3!=1.25.0,!=1.25.1,<1.26,>=1.21.1 in c:\\users\\alber\\anaconda3\\lib\\site-packages (from requests->yarg->pipreqs) (1.25.11)\n",
      "Requirement already satisfied: idna<2.9,>=2.5 in c:\\users\\alber\\anaconda3\\lib\\site-packages (from requests->yarg->pipreqs) (2.8)\n",
      "Building wheels for collected packages: docopt\n",
      "  Building wheel for docopt (setup.py): started\n",
      "  Building wheel for docopt (setup.py): finished with status 'done'\n",
      "  Created wheel for docopt: filename=docopt-0.6.2-py2.py3-none-any.whl size=13709 sha256=e939626347818097d624854bbe61f2a37f20dd512c040113bc533d0b008b9a64\n",
      "  Stored in directory: c:\\users\\alber\\appdata\\local\\pip\\cache\\wheels\\72\\b0\\3f\\1d95f96ff986c7dfffe46ce2be4062f38ebd04b506c77c81b9\n",
      "Successfully built docopt\n",
      "Installing collected packages: docopt, yarg, pipreqs\n",
      "Successfully installed docopt-0.6.2 pipreqs-0.4.13 yarg-0.1.9\n"
     ]
    }
   ],
   "source": [
    "!pip install pipreqs"
   ]
  },
  {
   "cell_type": "code",
   "execution_count": 4,
   "metadata": {},
   "outputs": [
    {
     "name": "stderr",
     "output_type": "stream",
     "text": [
      "INFO: Successfully saved requirements file in C:\\Users\\alber\\Documents\\ml2_api\\streamlit-ml-deployment-main\\streamlit-ml-deployment-main\\requirements.txt\n"
     ]
    }
   ],
   "source": [
    "!pipreqs --force"
   ]
  },
  {
   "cell_type": "code",
   "execution_count": 6,
   "metadata": {},
   "outputs": [
    {
     "name": "stderr",
     "output_type": "stream",
     "text": [
      "INFO: Successfully saved requirements file in C:\\Users\\charu\\Charu\\GitProjects\\MLDeploymentUsingStreamlit\\requirements.txt\n"
     ]
    }
   ],
   "source": [
    "!pipreqs --force"
   ]
  },
  {
   "cell_type": "code",
   "execution_count": null,
   "metadata": {},
   "outputs": [],
   "source": []
  }
 ],
 "metadata": {
  "kernelspec": {
   "display_name": "Python 3",
   "language": "python",
   "name": "python3"
  },
  "language_info": {
   "codemirror_mode": {
    "name": "ipython",
    "version": 3
   },
   "file_extension": ".py",
   "mimetype": "text/x-python",
   "name": "python",
   "nbconvert_exporter": "python",
   "pygments_lexer": "ipython3",
   "version": "3.7.6"
  }
 },
 "nbformat": 4,
 "nbformat_minor": 4
}
